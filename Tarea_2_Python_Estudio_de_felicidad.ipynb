{
 "cells": [
  {
   "cell_type": "code",
   "execution_count": null,
   "id": "37e1aaf2-9419-40d9-a577-2b39a746991b",
   "metadata": {},
   "outputs": [],
   "source": [
    "# Importamos las bibliotecas necesarias"
   ]
  },
  {
   "cell_type": "code",
   "execution_count": 24,
   "id": "ce9a04fd-3adf-4357-80b7-7bb6c3756373",
   "metadata": {},
   "outputs": [],
   "source": [
    "import pandas as pd\n",
    "import numpy as np"
   ]
  },
  {
   "cell_type": "code",
   "execution_count": null,
   "id": "289a3716-f32e-49bc-98b9-cd7dbe0af663",
   "metadata": {},
   "outputs": [],
   "source": [
    "# Cargamos los datos desde el repositorio de GitHub"
   ]
  },
  {
   "cell_type": "code",
   "execution_count": 11,
   "id": "33c435e9-c157-4190-80c1-d2bec311decf",
   "metadata": {},
   "outputs": [],
   "source": [
    "url = \"https://raw.githubusercontent.com/cienciadedatos/datos-de-miercoles/master/datos/2019/2019-08-07/felicidad.csv\"\n",
    "data = pd.read_csv(url)"
   ]
  },
  {
   "cell_type": "code",
   "execution_count": 8,
   "id": "7a8e1fc6-50e6-42c4-91b9-7d757aad5056",
   "metadata": {},
   "outputs": [],
   "source": [
    "# Observamos los datos de felicidad"
   ]
  },
  {
   "cell_type": "code",
   "execution_count": 14,
   "id": "b6e807c5-a564-4c3c-a1d6-d11e873746fa",
   "metadata": {},
   "outputs": [
    {
     "name": "stdout",
     "output_type": "stream",
     "text": [
      "          pais  anio  escalera_vida   log_pib  soporte_social  \\\n",
      "0  Afghanistán  2008       3.723590  7.168690        0.450662   \n",
      "1  Afghanistán  2009       4.401778  7.333790        0.552308   \n",
      "2  Afghanistán  2010       4.758381  7.386629        0.539075   \n",
      "3  Afghanistán  2011       3.831719  7.415019        0.521104   \n",
      "4  Afghanistán  2012       3.782938  7.517126        0.520637   \n",
      "\n",
      "   expectativa_vida  libertad  generosidad  percepcion_corrupcion  \\\n",
      "0         50.799999  0.718114     0.177889               0.881686   \n",
      "1         51.200001  0.678896     0.200178               0.850035   \n",
      "2         51.599998  0.600127     0.134353               0.706766   \n",
      "3         51.919998  0.495901     0.172137               0.731109   \n",
      "4         52.240002  0.530935     0.244273               0.775620   \n",
      "\n",
      "   afecto_positivo  afecto_negativo  confianza  calidad_democracia  \\\n",
      "0         0.517637         0.258195   0.612072           -1.929690   \n",
      "1         0.583926         0.237092   0.611545           -2.044093   \n",
      "2         0.618265         0.275324   0.299357           -1.991810   \n",
      "3         0.611387         0.267175   0.307386           -1.919018   \n",
      "4         0.710385         0.267919   0.435440           -1.842996   \n",
      "\n",
      "   calidad_entrega  de_escalera_pais_anio  gini_banco_mundial  \\\n",
      "0        -1.655084               1.774662                 NaN   \n",
      "1        -1.635025               1.722688                 NaN   \n",
      "2        -1.617176               1.878622                 NaN   \n",
      "3        -1.616221               1.785360                 NaN   \n",
      "4        -1.404078               1.798283                 NaN   \n",
      "\n",
      "   gini_banco_mundial_promedio  \n",
      "0                          NaN  \n",
      "1                          NaN  \n",
      "2                          NaN  \n",
      "3                          NaN  \n",
      "4                          NaN  \n"
     ]
    }
   ],
   "source": [
    "print(data.head())"
   ]
  },
  {
   "cell_type": "code",
   "execution_count": null,
   "id": "9cbafd72-52c7-40aa-9e06-26018642da63",
   "metadata": {},
   "outputs": [],
   "source": [
    "# Observamos los nombres de las columnas de nuestra bbdd"
   ]
  },
  {
   "cell_type": "code",
   "execution_count": 15,
   "id": "e9fd8123-d636-4d1e-bb5a-02d4ade633ec",
   "metadata": {},
   "outputs": [
    {
     "name": "stdout",
     "output_type": "stream",
     "text": [
      "Index(['pais', 'anio', 'escalera_vida', 'log_pib', 'soporte_social',\n",
      "       'expectativa_vida', 'libertad', 'generosidad', 'percepcion_corrupcion',\n",
      "       'afecto_positivo', 'afecto_negativo', 'confianza', 'calidad_democracia',\n",
      "       'calidad_entrega', 'de_escalera_pais_anio', 'gini_banco_mundial',\n",
      "       'gini_banco_mundial_promedio'],\n",
      "      dtype='object')\n"
     ]
    }
   ],
   "source": [
    "nombres_columna = data.columns\n",
    "print(nombres_columna)"
   ]
  },
  {
   "cell_type": "code",
   "execution_count": null,
   "id": "eafb5648-23d3-4a75-b5ea-4fc6f1073525",
   "metadata": {},
   "outputs": [],
   "source": [
    "# Identificamos el primer (min) y último año (max)"
   ]
  },
  {
   "cell_type": "code",
   "execution_count": 16,
   "id": "44b11111-57f0-429e-bc09-1b6d06431e8d",
   "metadata": {},
   "outputs": [],
   "source": [
    "primer_anio = data['anio'].min()\n",
    "ultimo_anio = data['anio'].max()"
   ]
  },
  {
   "cell_type": "code",
   "execution_count": 111,
   "id": "7c93593b-ec17-4236-aebe-63118f33f89a",
   "metadata": {},
   "outputs": [
    {
     "name": "stdout",
     "output_type": "stream",
     "text": [
      "[2008 2009 2010 2011 2012 2013 2014 2015 2016 2017 2018 2007 2006 2005]\n"
     ]
    }
   ],
   "source": [
    "print(data['anio'].unique())"
   ]
  },
  {
   "cell_type": "code",
   "execution_count": null,
   "id": "d82b0044-9004-4b36-895c-ab8e3a6ff9c5",
   "metadata": {},
   "outputs": [],
   "source": [
    "# Medida de tendencia central y dispersión de la felicidad a nivel mundial para el primer año (media y std)"
   ]
  },
  {
   "cell_type": "code",
   "execution_count": 18,
   "id": "dad5519f-497a-4771-99fa-0830ae1ca27a",
   "metadata": {},
   "outputs": [],
   "source": [
    "media_primer_anio = data[data['anio'] == primer_anio]['escalera_vida'].mean()\n",
    "std_primer_anio = data[data['anio'] == primer_anio]['escalera_vida'].std()"
   ]
  },
  {
   "cell_type": "code",
   "execution_count": null,
   "id": "62abbb93-1d79-4bdf-890b-180071b4cedf",
   "metadata": {},
   "outputs": [],
   "source": [
    "# Print las medidas (media y std) del primer año"
   ]
  },
  {
   "cell_type": "code",
   "execution_count": 21,
   "id": "d0e7f778-fece-4a45-994e-a8dfcef13b32",
   "metadata": {},
   "outputs": [
    {
     "name": "stdout",
     "output_type": "stream",
     "text": [
      "Medidas (media y std) del primer año:\n",
      "Media: 6.446164272449635\n",
      "Std: 0.9191426322726484\n"
     ]
    }
   ],
   "source": [
    "print(f\"Medidas (media y std) del primer año:\")\n",
    "print(f\"Media: {media_primer_anio}\")\n",
    "print(f\"Std: {std_primer_anio}\")"
   ]
  },
  {
   "cell_type": "code",
   "execution_count": null,
   "id": "7ffacf5d-56aa-4d22-8dfa-972f67359a47",
   "metadata": {},
   "outputs": [],
   "source": [
    "# Medida de tendencia central y dispersión de la felicidad a nivel mundial para el último año (media y std)"
   ]
  },
  {
   "cell_type": "code",
   "execution_count": 19,
   "id": "15a9bce9-fe59-41f9-a100-ad3a3428ed2a",
   "metadata": {},
   "outputs": [],
   "source": [
    "media_ultimo_anio = data[data['anio'] == ultimo_anio]['escalera_vida'].mean()\n",
    "std_ultimo_anio = data[data['anio'] == ultimo_anio]['escalera_vida'].std()"
   ]
  },
  {
   "cell_type": "code",
   "execution_count": null,
   "id": "248b57f5-1d39-4dd2-88f4-69e825c60726",
   "metadata": {},
   "outputs": [],
   "source": [
    "# Print las medidas (media y std) de último año"
   ]
  },
  {
   "cell_type": "code",
   "execution_count": 22,
   "id": "5cea0d6f-9b05-4c16-ba06-76d10f8e2646",
   "metadata": {},
   "outputs": [
    {
     "name": "stdout",
     "output_type": "stream",
     "text": [
      "Medidas (media y std) del último año:\n",
      "Media: 5.502134340650895\n",
      "Std: 1.1034612436939357\n"
     ]
    }
   ],
   "source": [
    "print(f\"Medidas (media y std) del último año:\")\n",
    "print(f\"Media: {media_ultimo_anio}\")\n",
    "print(f\"Std: {std_ultimo_anio}\")"
   ]
  },
  {
   "cell_type": "code",
   "execution_count": null,
   "id": "bfc493f7-4655-4dcf-8159-7a4f60e74702",
   "metadata": {},
   "outputs": [],
   "source": [
    "# Creacion de graficos"
   ]
  },
  {
   "cell_type": "code",
   "execution_count": 26,
   "id": "2edaa098-375d-48fe-a53f-57a4438ac745",
   "metadata": {},
   "outputs": [
    {
     "name": "stdout",
     "output_type": "stream",
     "text": [
      "Collecting matplotlib\n",
      "  Obtaining dependency information for matplotlib from https://files.pythonhosted.org/packages/59/c7/f8da659997fe3210fdda689cf2d7720b3a079578fb8aecc3623c4e091a77/matplotlib-3.8.0-cp312-cp312-win_amd64.whl.metadata\n",
      "  Downloading matplotlib-3.8.0-cp312-cp312-win_amd64.whl.metadata (5.9 kB)\n",
      "Collecting contourpy>=1.0.1 (from matplotlib)\n",
      "  Obtaining dependency information for contourpy>=1.0.1 from https://files.pythonhosted.org/packages/75/d4/c3b7a9a0d1f99b528e5a46266b0b9f13aad5a0dd1156d071418df314c427/contourpy-1.1.1-cp312-cp312-win_amd64.whl.metadata\n",
      "  Downloading contourpy-1.1.1-cp312-cp312-win_amd64.whl.metadata (5.9 kB)\n",
      "Collecting cycler>=0.10 (from matplotlib)\n",
      "  Obtaining dependency information for cycler>=0.10 from https://files.pythonhosted.org/packages/e7/05/c19819d5e3d95294a6f5947fb9b9629efb316b96de511b418c53d245aae6/cycler-0.12.1-py3-none-any.whl.metadata\n",
      "  Downloading cycler-0.12.1-py3-none-any.whl.metadata (3.8 kB)\n",
      "Collecting fonttools>=4.22.0 (from matplotlib)\n",
      "  Obtaining dependency information for fonttools>=4.22.0 from https://files.pythonhosted.org/packages/24/01/9bb5e115206b5c7f7894978f9af57a3d17c94fbc0df913389f1eaf334a68/fonttools-4.43.1-cp312-cp312-win_amd64.whl.metadata\n",
      "  Downloading fonttools-4.43.1-cp312-cp312-win_amd64.whl.metadata (155 kB)\n",
      "     ---------------------------------------- 0.0/155.5 kB ? eta -:--:--\n",
      "     ---------------------------------------- 0.0/155.5 kB ? eta -:--:--\n",
      "     -- ------------------------------------- 10.2/155.5 kB ? eta -:--:--\n",
      "     ------- ----------------------------- 30.7/155.5 kB 435.7 kB/s eta 0:00:01\n",
      "     ------- ----------------------------- 30.7/155.5 kB 435.7 kB/s eta 0:00:01\n",
      "     ------- ----------------------------- 30.7/155.5 kB 435.7 kB/s eta 0:00:01\n",
      "     -------------------------- --------- 112.6/155.5 kB 547.6 kB/s eta 0:00:01\n",
      "     -------------------------- --------- 112.6/155.5 kB 547.6 kB/s eta 0:00:01\n",
      "     -------------------------- --------- 112.6/155.5 kB 547.6 kB/s eta 0:00:01\n",
      "     ------------------------------------ 155.5/155.5 kB 422.4 kB/s eta 0:00:00\n",
      "Collecting kiwisolver>=1.0.1 (from matplotlib)\n",
      "  Obtaining dependency information for kiwisolver>=1.0.1 from https://files.pythonhosted.org/packages/63/50/2746566bdf4a6a842d117367d05c90cfb87ac04e9e2845aa1fa21f071362/kiwisolver-1.4.5-cp312-cp312-win_amd64.whl.metadata\n",
      "  Downloading kiwisolver-1.4.5-cp312-cp312-win_amd64.whl.metadata (6.5 kB)\n",
      "Requirement already satisfied: numpy<2,>=1.21 in c:\\users\\rachel sierra\\miniconda3\\envs\\new_dimensions\\lib\\site-packages (from matplotlib) (1.26.0)\n",
      "Requirement already satisfied: packaging>=20.0 in c:\\users\\rachel sierra\\miniconda3\\envs\\new_dimensions\\lib\\site-packages (from matplotlib) (23.2)\n",
      "Collecting pillow>=6.2.0 (from matplotlib)\n",
      "  Obtaining dependency information for pillow>=6.2.0 from https://files.pythonhosted.org/packages/00/00/d42abea0b4a415ea1e0975c981f95f354de1280d7e7bef3882bf1464b795/Pillow-10.0.1-cp312-cp312-win_amd64.whl.metadata\n",
      "  Downloading Pillow-10.0.1-cp312-cp312-win_amd64.whl.metadata (9.6 kB)\n",
      "Collecting pyparsing>=2.3.1 (from matplotlib)\n",
      "  Obtaining dependency information for pyparsing>=2.3.1 from https://files.pythonhosted.org/packages/39/92/8486ede85fcc088f1b3dba4ce92dd29d126fd96b0008ea213167940a2475/pyparsing-3.1.1-py3-none-any.whl.metadata\n",
      "  Downloading pyparsing-3.1.1-py3-none-any.whl.metadata (5.1 kB)\n",
      "Requirement already satisfied: python-dateutil>=2.7 in c:\\users\\rachel sierra\\miniconda3\\envs\\new_dimensions\\lib\\site-packages (from matplotlib) (2.8.2)\n",
      "Requirement already satisfied: six>=1.5 in c:\\users\\rachel sierra\\miniconda3\\envs\\new_dimensions\\lib\\site-packages (from python-dateutil>=2.7->matplotlib) (1.16.0)\n",
      "Downloading matplotlib-3.8.0-cp312-cp312-win_amd64.whl (7.6 MB)\n",
      "   ---------------------------------------- 0.0/7.6 MB ? eta -:--:--\n",
      "    --------------------------------------- 0.1/7.6 MB 3.3 MB/s eta 0:00:03\n",
      "   - -------------------------------------- 0.2/7.6 MB 2.9 MB/s eta 0:00:03\n",
      "   - -------------------------------------- 0.2/7.6 MB 2.9 MB/s eta 0:00:03\n",
      "   -- ------------------------------------- 0.5/7.6 MB 2.7 MB/s eta 0:00:03\n",
      "   --- ------------------------------------ 0.6/7.6 MB 2.8 MB/s eta 0:00:03\n",
      "   ---- ----------------------------------- 0.9/7.6 MB 3.3 MB/s eta 0:00:03\n",
      "   ------- -------------------------------- 1.4/7.6 MB 4.2 MB/s eta 0:00:02\n",
      "   -------- ------------------------------- 1.6/7.6 MB 4.1 MB/s eta 0:00:02\n",
      "   ----------- ---------------------------- 2.1/7.6 MB 5.0 MB/s eta 0:00:02\n",
      "   ------------ --------------------------- 2.4/7.6 MB 5.5 MB/s eta 0:00:01\n",
      "   ------------------ --------------------- 3.5/7.6 MB 6.7 MB/s eta 0:00:01\n",
      "   ----------------------- ---------------- 4.5/7.6 MB 8.2 MB/s eta 0:00:01\n",
      "   ------------------------- -------------- 4.8/7.6 MB 7.9 MB/s eta 0:00:01\n",
      "   -------------------------------- ------- 6.3/7.6 MB 9.6 MB/s eta 0:00:01\n",
      "   ---------------------------------------  7.6/7.6 MB 10.9 MB/s eta 0:00:01\n",
      "   ---------------------------------------- 7.6/7.6 MB 10.2 MB/s eta 0:00:00\n",
      "Downloading contourpy-1.1.1-cp312-cp312-win_amd64.whl (486 kB)\n",
      "   ---------------------------------------- 0.0/486.7 kB ? eta -:--:--\n",
      "   --------------------------------------- 486.7/486.7 kB 15.4 MB/s eta 0:00:00\n",
      "Downloading cycler-0.12.1-py3-none-any.whl (8.3 kB)\n",
      "Downloading fonttools-4.43.1-cp312-cp312-win_amd64.whl (2.1 MB)\n",
      "   ---------------------------------------- 0.0/2.1 MB ? eta -:--:--\n",
      "   ----------------------------- ---------- 1.6/2.1 MB 51.2 MB/s eta 0:00:01\n",
      "   ---------------------------------------- 2.1/2.1 MB 27.2 MB/s eta 0:00:00\n",
      "Downloading kiwisolver-1.4.5-cp312-cp312-win_amd64.whl (56 kB)\n",
      "   ---------------------------------------- 0.0/56.0 kB ? eta -:--:--\n",
      "   ---------------------------------------- 56.0/56.0 kB 3.1 MB/s eta 0:00:00\n",
      "Downloading Pillow-10.0.1-cp312-cp312-win_amd64.whl (2.5 MB)\n",
      "   ---------------------------------------- 0.0/2.5 MB ? eta -:--:--\n",
      "   ------------------------ --------------- 1.6/2.5 MB 33.1 MB/s eta 0:00:01\n",
      "   ---------------------------------------  2.5/2.5 MB 39.7 MB/s eta 0:00:01\n",
      "   ---------------------------------------- 2.5/2.5 MB 23.0 MB/s eta 0:00:00\n",
      "Downloading pyparsing-3.1.1-py3-none-any.whl (103 kB)\n",
      "   ---------------------------------------- 0.0/103.1 kB ? eta -:--:--\n",
      "   ---------------------------------------- 103.1/103.1 kB ? eta 0:00:00\n",
      "Installing collected packages: pyparsing, pillow, kiwisolver, fonttools, cycler, contourpy, matplotlib\n",
      "Successfully installed contourpy-1.1.1 cycler-0.12.1 fonttools-4.43.1 kiwisolver-1.4.5 matplotlib-3.8.0 pillow-10.0.1 pyparsing-3.1.1\n"
     ]
    }
   ],
   "source": [
    "!pip install matplotlib"
   ]
  },
  {
   "cell_type": "code",
   "execution_count": 27,
   "id": "b7e17426-dd81-4d28-be55-54c9eb51fa28",
   "metadata": {},
   "outputs": [],
   "source": [
    "import matplotlib.pyplot as plt"
   ]
  },
  {
   "cell_type": "code",
   "execution_count": 35,
   "id": "7f2122d0-7966-4cdf-a4b6-872b572306e7",
   "metadata": {},
   "outputs": [],
   "source": [
    "# Creación datos de ejemplo para el gráfico\n",
    "np.random.seed(0)\n",
    "felicidad_primer_anio = np.random.normal(media_primer_anio, std_primer_anio, 1000)\n",
    "felicidad_ultimo_anio = np.random.normal(media_ultimo_anio, std_ultimo_anio, 1000)"
   ]
  },
  {
   "cell_type": "code",
   "execution_count": 38,
   "id": "4efd6cc4-f1d4-4e86-8c2f-464438a9f742",
   "metadata": {},
   "outputs": [
    {
     "data": {
      "image/png": "[encoded data removed]",
      "text/plain": [
       "<Figure size 1000x500 with 1 Axes>"
      ]
     },
     "metadata": {},
     "output_type": "display_data"
    }
   ],
   "source": [
    "# Crear el gráfico\n",
    "plt.figure(figsize=(10,5))\n",
    "plt.hist(felicidad_primer_anio, bins=30, alpha=0.5, color='g', label='Felicidad Primer Año')\n",
    "plt.hist(felicidad_ultimo_anio, bins=30, alpha=0.5, color='b', label='Felicidad Último Año')\n",
    "plt.axvline(media_primer_anio, color='r', linestyle='dashed', linewidth=2, label=f'Media Primer Año: {media_primer_anio:.2f}')\n",
    "plt.axvline(media_primer_anio + std_primer_anio, color='r', linestyle='dotted', linewidth=2, label=f'Std Primer Año: {std_primer_anio:.2f}')\n",
    "plt.axvline(media_primer_anio - std_primer_anio, color='r', linestyle='dotted', linewidth=2)\n",
    "plt.axvline(media_ultimo_anio, color='c', linestyle='dashed', linewidth=2, label=f'Media Último Año: {media_ultimo_anio:.2f}')\n",
    "plt.axvline(media_ultimo_anio + std_ultimo_anio, color='c', linestyle='dotted', linewidth=2, label=f'Std Último Año: {std_ultimo_anio:.2f}')\n",
    "plt.axvline(media_ultimo_anio - std_ultimo_anio, color='c', linestyle='dotted', linewidth=2)\n",
    "plt.xlabel('Felicidad')\n",
    "plt.ylabel('Frecuencia')\n",
    "plt.legend()\n",
    "plt.show()"
   ]
  },
  {
   "cell_type": "code",
   "execution_count": 68,
   "id": "a94e0493-43a8-4ee1-a8af-5cfc91ed5754",
   "metadata": {},
   "outputs": [
    {
     "name": "stdout",
     "output_type": "stream",
     "text": [
      "['Afghanistán' 'Albania' 'Algeria' 'Angola' 'Argentina' 'Armenia'\n",
      " 'Australia' 'Austria' 'Azerbaijan' 'Bahrain' 'Bangladesh' 'Bielorrusia'\n",
      " 'Bélgica' 'Belize' 'Benin' 'Bhutan' 'Bolivia' 'Bosnia y Herzegovina'\n",
      " 'Botswana' 'Brasil' 'Bulgaria' 'Burkina Faso' 'Burundi' 'Cambodia'\n",
      " 'Camerún' 'Canadá' 'República Central Africana' 'Chad' 'Chile' 'China'\n",
      " 'Colombia' 'Comoros' 'Congo (Brazzaville)' 'Congo (Kinshasa)'\n",
      " 'Costa Rica' 'Croacia' 'Cuba' 'Chipre' 'República Checa' 'Dinamarca'\n",
      " 'Djibouti' 'República Dominicana' 'Ecuador' 'Egipto' 'El Salvador'\n",
      " 'Estonia' 'Etiopía' 'Finlandia' 'Francia' 'Gabón' 'Gambia' 'Georgia'\n",
      " 'Alemania' 'Ghana' 'Greece' 'Guatemala' 'Guinea' 'Guyana' 'Haití'\n",
      " 'Honduras' 'Hong Kong S.A.R. of China' 'Hungría' 'Islandia' 'India'\n",
      " 'Indonesia' 'Iran' 'Irak' 'Irlanda' 'Israel' 'Italia' 'Costa de Marfil'\n",
      " 'Jamaica' 'Japón' 'Jordania' 'Kazakhstan' 'Kenia' 'Kosovo' 'Kuwait'\n",
      " 'Kyrgyzstan' 'Laos' 'Latvia' 'Líbano' 'Lesotho' 'Liberia' 'Libya'\n",
      " 'Lituania' 'Luxemburgo' 'Macedonia' 'Madagascar' 'Malawi' 'Malasia'\n",
      " 'Mali' 'Malta' 'Mauritania' 'Mauritius' 'México' 'Moldova' 'Mongolia'\n",
      " 'Montenegro' 'Marruecos' 'Mozambique' 'Myanmar' 'Namibia' 'Nepal'\n",
      " 'Países Bajos' 'Nueva Zelanda' 'Nicaragua' 'Nigeria' 'North Cyprus'\n",
      " 'Noruega' 'Oman' 'Pakistan' 'Palestinian Territories' 'Panamá' 'Paraguay'\n",
      " 'Perú' 'Filipinas' 'Polonia' 'Portugal' 'Qatar' 'Rumania' 'Rusia'\n",
      " 'Ruanda' 'Arabia Saudita' 'Senegal' 'Serbia' 'Sierra Leona' 'Singapur'\n",
      " 'Eslovaquia' 'Eslovenia' 'Somalía' 'Somaliland region' 'Sudáfrica'\n",
      " 'Corea del Sur' 'South Sudan' 'España' 'Sri Lanka' 'Sudan' 'Surinam'\n",
      " 'Swaziland' 'Suecia' 'Suiza' 'Syria' 'Taiwán' 'Tajikistan' 'Tanzania'\n",
      " 'Tailandia' 'Togo' 'Trinidad y Tobago' 'Túnez' 'Turquía' 'Turkmenistan'\n",
      " 'Uganda' 'Ucrania' 'Emiratos Árabes Unidos' 'Reino Unido'\n",
      " 'Estados Unidos' 'Uruguay' 'Uzbekistan' 'Venezuela' 'Vietnam' 'Yemen'\n",
      " 'Zambia' 'Zimbabue']\n"
     ]
    }
   ],
   "source": [
    "print(data['pais'].unique())"
   ]
  },
  {
   "cell_type": "code",
   "execution_count": 107,
   "id": "db3cb84a-29eb-4c7f-b21c-e14f5d0770a5",
   "metadata": {},
   "outputs": [],
   "source": [
    "# Accedemos a la información de la felicidad del primer y último año para los dos países de nuestra elección\n",
    "pais1 = 'Bélgica'\n",
    "pais2 = 'Australia'"
   ]
  },
  {
   "cell_type": "code",
   "execution_count": 108,
   "id": "07211809-1cfe-4f18-8e26-3a031bb8af24",
   "metadata": {},
   "outputs": [],
   "source": [
    "# Filtrar datos para el primer año y los países seleccionados\n",
    "felicidad_pais1_primer_anio_data = data[(data['anio'] == primer_anio) & (data['pais'] == pais1)]['escalera_vida']\n",
    "\n",
    "if len(felicidad_pais1_primer_anio_data) > 0:\n",
    "    felicidad_pais1_primer_anio = felicidad_pais1_primer_anio_data.values[0]\n",
    "else:\n",
    "    print(f\"No se encontraron datos para el país {pais1} en el primer año.\")"
   ]
  },
  {
   "cell_type": "code",
   "execution_count": 109,
   "id": "6197323b-5257-4895-b766-41b1535dc272",
   "metadata": {},
   "outputs": [],
   "source": [
    "# Filtrar datos para del primer año y los países seleccionados\n",
    "felicidad_pais1_primer_anio = data[(data['anio'] == primer_anio) & (data['pais'] == pais1)]['escalera_vida'].values[0]\n",
    "felicidad_pais2_primer_anio = data[(data['anio'] == primer_anio) & (data['pais'] == pais2)]['escalera_vida'].values[0]\n"
   ]
  },
  {
   "cell_type": "code",
   "execution_count": 110,
   "id": "8ca1c31f-e015-40ad-a30a-47977d3987ae",
   "metadata": {},
   "outputs": [],
   "source": [
    "# Filtrar datos para el ultimo año y los países seleccionados\n",
    "felicidad_pais1_ultimo_anio = data[(data['anio'] == ultimo_anio) & (data['pais'] == pais1)]['escalera_vida'].values[0]\n",
    "felicidad_pais2_ultimo_anio = data[(data['anio'] == ultimo_anio) & (data['pais'] == pais2)]['escalera_vida'].values[0]\n"
   ]
  },
  {
   "cell_type": "code",
   "execution_count": 113,
   "id": "1d385f4e-2cde-41f0-afd2-5de6d2351974",
   "metadata": {},
   "outputs": [
    {
     "name": "stdout",
     "output_type": "stream",
     "text": [
      "Felicidad en Bélgica en el primer año (2005): 7.262290477752685\n",
      "Felicidad en Australia en el primer año (2005): 7.340688228607178\n",
      "Felicidad en Bélgica en el último año (2018): 6.892171859741211\n",
      "Felicidad en Australia en el último año (2018): 7.176993370056152\n"
     ]
    }
   ],
   "source": [
    "# Identidicar los niveles de felicidad de los países seleccionados\n",
    "print(f\"Felicidad en {pais1} en el primer año (2005): {felicidad_pais1_primer_anio}\")\n",
    "print(f\"Felicidad en {pais2} en el primer año (2005): {felicidad_pais2_primer_anio}\")\n",
    "print(f\"Felicidad en {pais1} en el último año (2018): {felicidad_pais1_ultimo_anio}\")\n",
    "print(f\"Felicidad en {pais2} en el último año (2018): {felicidad_pais2_ultimo_anio}\")"
   ]
  },
  {
   "cell_type": "code",
   "execution_count": 119,
   "id": "c07ae783-4b29-4fe2-99d1-d62d849b2ad6",
   "metadata": {},
   "outputs": [],
   "source": [
    "# Comparamos los países de nuestra elección con el resto del mundo\n",
    "if felicidad_pais1_primer_anio > media_primer_anio:\n",
    "    comparacion_pais1_primer_anio = f\"{pais1} fue más feliz que el promedio del resto del mundo en el primer año (2005).\"\n",
    "else:\n",
    "    comparacion_pais1_primer_anio = f\"{pais1} es menos feliz que el promedio del resto del mundo en el primer año (2005).\"\n",
    "\n",
    "if felicidad_pais1_ultimo_anio > media_ultimo_anio:\n",
    "    comparacion_pais1_ultimo_anio = f\"{pais1} fue más feliz que el promedio del resto del mundo en el último año (2018).\"\n",
    "else:\n",
    "    comparacion_pais1_ultimo_anio = f\"{pais1} fue menos feliz que el promedio del resto del mundo en el último año (2018).\"\n",
    "\n",
    "if felicidad_pais2_primer_anio > media_primer_anio:\n",
    "    comparacion_pais2_primer_anio = f\"{pais2} fue más feliz que el promedio del resto del mundo en el primer año (2005).\"\n",
    "else:\n",
    "    comparacion_pais2_primer_anio = f\"{pais2} es menos feliz que el promedio del resto del mundo en el primer año (2005).\"\n",
    "\n",
    "if felicidad_pais2_ultimo_anio > media_ultimo_anio:\n",
    "    comparacion_pais2_ultimo_anio = f\"{pais2} fue más feliz que el promedio del resto del mundo en el último año (2018).\"\n",
    "else:\n",
    "    comparacion_pais2_ultimo_anio = f\"{pais2} fue menos feliz que el promedio del resto del mundo en el último año (2018).\""
   ]
  },
  {
   "cell_type": "code",
   "execution_count": 120,
   "id": "c608b6d8-0002-4da5-a6ac-117191be0595",
   "metadata": {},
   "outputs": [
    {
     "name": "stdout",
     "output_type": "stream",
     "text": [
      "Bélgica fue más feliz que el promedio del resto del mundo en el primer año (2005).\n",
      "Bélgica fue más feliz que el promedio del resto del mundo en el último año (2018).\n",
      "Australia fue más feliz que el promedio del resto del mundo en el primer año (2005).\n",
      "Australia fue más feliz que el promedio del resto del mundo en el último año (2018).\n"
     ]
    }
   ],
   "source": [
    "# Print las comparaciones\n",
    "print(comparacion_pais1_primer_anio)\n",
    "print(comparacion_pais1_ultimo_anio)\n",
    "print(comparacion_pais2_primer_anio)\n",
    "print(comparacion_pais2_ultimo_anio)"
   ]
  }
 ],
 "metadata": {
  "kernelspec": {
   "display_name": "Python 3 (ipykernel)",
   "language": "python",
   "name": "python3"
  },
  "language_info": {
   "codemirror_mode": {
    "name": "ipython",
    "version": 3
   },
   "file_extension": ".py",
   "mimetype": "text/x-python",
   "name": "python",
   "nbconvert_exporter": "python",
   "pygments_lexer": "ipython3",
   "version": "3.12.0"
  }
 },
 "nbformat": 4,
 "nbformat_minor": 5
}
